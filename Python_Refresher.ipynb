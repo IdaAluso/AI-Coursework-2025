{
 "cells": [
  {
   "cell_type": "markdown",
   "id": "f95e3318-2ea8-4dac-9ace-a2b3afe09bba",
   "metadata": {},
   "source": [
    "# 148396 BBIT 3.2C - Practice Exercise"
   ]
  },
  {
   "cell_type": "markdown",
   "id": "2f5e786a-a16f-4bac-9b96-4861e06ade58",
   "metadata": {},
   "source": [
    "# 1. Ask user number of days"
   ]
  },
  {
   "cell_type": "code",
   "execution_count": 2,
   "id": "6381077c-d39a-4658-a2dc-60ad6864488f",
   "metadata": {},
   "outputs": [
    {
     "name": "stdin",
     "output_type": "stream",
     "text": [
      "Please enter number of days 2\n"
     ]
    },
    {
     "name": "stdout",
     "output_type": "stream",
     "text": [
      "2 days contain 172800 seconds.\n"
     ]
    }
   ],
   "source": [
    "#Prompt user for input\n",
    "no_of_days = int(input(\"Please enter number of days\"))\n",
    "\n",
    "#Calculate days equivalent in seconds (1 day = 86400 seconds)\n",
    "seconds = no_of_days * 86400\n",
    "\n",
    "#Print answer\n",
    "print(f\"{no_of_days} days contain {seconds} seconds.\")"
   ]
  },
  {
   "cell_type": "markdown",
   "id": "0ec20e3e-eb40-41e5-8a25-53b4375be79d",
   "metadata": {},
   "source": [
    "# 2. Calculate volume of a sphere"
   ]
  },
  {
   "cell_type": "code",
   "execution_count": 6,
   "id": "22b0be0c-303d-4cf5-a805-f5386c646ea7",
   "metadata": {},
   "outputs": [
    {
     "name": "stdin",
     "output_type": "stream",
     "text": [
      "Please enter a radius 4\n"
     ]
    },
    {
     "name": "stdout",
     "output_type": "stream",
     "text": [
      "A radius of 4 will have a volume of 268.1173333333333.\n"
     ]
    }
   ],
   "source": [
    "#Prompt user for input\n",
    "radius = int(input(\"Please enter a radius\"))\n",
    "\n",
    "#Calculate volume of sphere\n",
    "vol_of_sphere = (4/3) * 3.142 * (radius ** 3)\n",
    "\n",
    "#Print result\n",
    "print(f\"A radius of {radius} will have a volume of {vol_of_sphere}.\")"
   ]
  },
  {
   "cell_type": "markdown",
   "id": "687f8f61-b7f6-4579-8054-572c195faede",
   "metadata": {},
   "source": [
    "# 3. Area and Perimeter of a Square"
   ]
  },
  {
   "cell_type": "code",
   "execution_count": 7,
   "id": "991d6498-a4ed-4473-a166-58c754016001",
   "metadata": {},
   "outputs": [
    {
     "name": "stdin",
     "output_type": "stream",
     "text": [
      "Please insert the length of the side of the square 5.2\n"
     ]
    },
    {
     "name": "stdout",
     "output_type": "stream",
     "text": [
      "A square with side 5.2, has an area of 27.040000000000003 and a perimeter of 20.8.\n"
     ]
    }
   ],
   "source": [
    "#Function for area\n",
    "def area_of_square(side):\n",
    "    return side * side\n",
    "\n",
    "#Function for perimeter\n",
    "def per_of_square(side):\n",
    "    return side * 4\n",
    "\n",
    "#Prompt user for input\n",
    "length = float(input(\"Please insert the length of the side of the square\"))\n",
    "\n",
    "#Calculate area\n",
    "area = area_of_square(length)\n",
    "\n",
    "#Calculate perimeter\n",
    "perimeter = per_of_square(length)\n",
    "\n",
    "#Print result\n",
    "print(f\"A square with side {length}, has an area of {area} and a perimeter of {perimeter}.\")"
   ]
  },
  {
   "cell_type": "markdown",
   "id": "2ec31aa1-09f9-4190-94e7-3db97353fe7a",
   "metadata": {},
   "source": [
    "# 4. Uppercase or lowercase"
   ]
  },
  {
   "cell_type": "code",
   "execution_count": 11,
   "id": "1c16bc21-48cb-4c06-aef5-de0723cd2bf3",
   "metadata": {},
   "outputs": [
    {
     "name": "stdin",
     "output_type": "stream",
     "text": [
      "Please input a character H\n"
     ]
    },
    {
     "name": "stdout",
     "output_type": "stream",
     "text": [
      "Character H is Uppercase.\n"
     ]
    }
   ],
   "source": [
    "#Function to check case\n",
    "def case(char):\n",
    "    if char.isupper():\n",
    "        return \"Uppercase\"\n",
    "    elif char.islower():\n",
    "        return \"Lowercase\"\n",
    "    else:\n",
    "        return \"Not a character\"\n",
    "\n",
    "#Prompt user for input\n",
    "character = input(\"Please input a character\")\n",
    "\n",
    "#Check if upper or lower case\n",
    "print(f\"Character {character} is {case(character)}.\")"
   ]
  },
  {
   "cell_type": "markdown",
   "id": "1ed1099d-f996-40a3-9e24-36659ef943db",
   "metadata": {},
   "source": [
    "# 5. Converting Pseudocode to Python"
   ]
  },
  {
   "cell_type": "code",
   "execution_count": 1,
   "id": "f1942c32-153b-46e5-a355-811f82a6cfba",
   "metadata": {},
   "outputs": [
    {
     "name": "stdout",
     "output_type": "stream",
     "text": [
      "X is equal to 1.0416666666666665\n"
     ]
    }
   ],
   "source": [
    "#Variables\n",
    "x = 0\n",
    "y = 20\n",
    "\n",
    "#Subtraction loop until y<6\n",
    "while y>6:\n",
    "    y = y-4\n",
    "    x = (2/y) + x\n",
    "\n",
    "#Print result\n",
    "print(f\"X is equal to {x}\")"
   ]
  },
  {
   "cell_type": "markdown",
   "id": "bd93ecb4-3879-4909-bc5a-8c10b450306d",
   "metadata": {},
   "source": [
    "# 6. Loops and average calculation"
   ]
  },
  {
   "cell_type": "code",
   "execution_count": 3,
   "id": "ab21847d-c9b8-40f7-aa19-a1e33cc93140",
   "metadata": {},
   "outputs": [
    {
     "name": "stdin",
     "output_type": "stream",
     "text": [
      "Please enter numbers 1 2\n",
      "Please enter numbers 2 5\n",
      "Please enter numbers 3 3\n",
      "Please enter numbers 4 6\n",
      "Please enter numbers 5 7\n"
     ]
    },
    {
     "name": "stdout",
     "output_type": "stream",
     "text": [
      "The average of the values given is 4.6\n"
     ]
    }
   ],
   "source": [
    "#Empty list\n",
    "numbers = []\n",
    "\n",
    "#Prompt user for input\n",
    "for n in range(5):\n",
    "    number = int(input(f\"Please enter numbers {n+1}\"))\n",
    "    numbers.append(number)\n",
    "\n",
    "#Calculation of average\n",
    "average = sum(numbers) / len(numbers)\n",
    "\n",
    "#Print result\n",
    "print(f\"The average of the values given is {average}\")"
   ]
  },
  {
   "cell_type": "code",
   "execution_count": null,
   "id": "690426ad-4d0a-4577-984e-7c64fb082da5",
   "metadata": {},
   "outputs": [],
   "source": []
  }
 ],
 "metadata": {
  "kernelspec": {
   "display_name": "Python 3 (ipykernel)",
   "language": "python",
   "name": "python3"
  },
  "language_info": {
   "codemirror_mode": {
    "name": "ipython",
    "version": 3
   },
   "file_extension": ".py",
   "mimetype": "text/x-python",
   "name": "python",
   "nbconvert_exporter": "python",
   "pygments_lexer": "ipython3",
   "version": "3.13.5"
  }
 },
 "nbformat": 4,
 "nbformat_minor": 5
}
